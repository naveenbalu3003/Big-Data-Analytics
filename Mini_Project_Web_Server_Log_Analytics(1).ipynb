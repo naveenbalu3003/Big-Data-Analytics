{
  "nbformat": 4,
  "nbformat_minor": 0,
  "metadata": {
    "colab": {
      "provenance": []
    },
    "kernelspec": {
      "name": "python3",
      "display_name": "Python 3"
    },
    "language_info": {
      "name": "python"
    }
  },
  "cells": [
    {
      "cell_type": "code",
      "source": [
        "# Installing pyspark\n",
        "\n",
        "!pip install pyspark"
      ],
      "metadata": {
        "colab": {
          "base_uri": "https://localhost:8080/"
        },
        "id": "y9QtDZ5cLUDy",
        "outputId": "86abf641-4a9c-40b2-dd18-5dbedbb56eb4"
      },
      "execution_count": 103,
      "outputs": [
        {
          "output_type": "stream",
          "name": "stdout",
          "text": [
            "Requirement already satisfied: pyspark in /usr/local/lib/python3.10/dist-packages (3.5.0)\n",
            "Requirement already satisfied: py4j==0.10.9.7 in /usr/local/lib/python3.10/dist-packages (from pyspark) (0.10.9.7)\n"
          ]
        }
      ]
    },
    {
      "cell_type": "code",
      "execution_count": 104,
      "metadata": {
        "id": "zJa6e03zJMTt"
      },
      "outputs": [],
      "source": [
        "# Importing packages\n",
        "\n",
        "from pyspark import SparkContext\n",
        "from pyspark.sql import SQLContext\n",
        "from pyspark.sql import SparkSession\n",
        "import re\n",
        "import pandas as pd\n",
        "import pyspark.sql.functions as F\n",
        "from pyspark.sql.functions import regexp_extract\n",
        "from pyspark.sql.functions import regexp_replace"
      ]
    },
    {
      "cell_type": "code",
      "source": [
        "# Creating necessary contents\n",
        "\n",
        "ss=SparkSession.builder.getOrCreate()\n",
        "sc=SparkContext.getOrCreate()\n",
        "sqlContext = SQLContext(sc)"
      ],
      "metadata": {
        "id": "Mm86QezILhMI",
        "colab": {
          "base_uri": "https://localhost:8080/"
        },
        "outputId": "8d8cf7ae-1a91-44f0-81e1-1da38fa57725"
      },
      "execution_count": 105,
      "outputs": [
        {
          "output_type": "stream",
          "name": "stderr",
          "text": [
            "/usr/local/lib/python3.10/dist-packages/pyspark/sql/context.py:113: FutureWarning: Deprecated in 3.0.0. Use SparkSession.builder.getOrCreate() instead.\n",
            "  warnings.warn(\n"
          ]
        }
      ]
    },
    {
      "cell_type": "code",
      "source": [
        "# Importing and printing base data\n",
        "\n",
        "base_data=ss.read.csv(\"/content/drive/MyDrive/BDA Mini Project/Thunderbird_2k.log_structured.csv\",header=True)\n",
        "base_data.show()"
      ],
      "metadata": {
        "colab": {
          "base_uri": "https://localhost:8080/"
        },
        "id": "lyAOrT7ITUZ3",
        "outputId": "36f5229c-ed85-4069-9a2c-150270b5142f"
      },
      "execution_count": 106,
      "outputs": [
        {
          "output_type": "stream",
          "name": "stdout",
          "text": [
            "+------+-----+----------+----------+-----+--------+-----------+---------------+----+--------------------+-------+--------------------+\n",
            "|LineId|Label| Timestamp|      Date| User|    Time|   Location|      Component| PID|             Content|EventId|       EventTemplate|\n",
            "+------+-----+----------+----------+-----+--------+-----------+---------------+----+--------------------+-------+--------------------+\n",
            "|     1|    -|1131566461|2005.11.09|dn228|12:01:01|dn228/dn228|crond(pam_unix)|2915|session closed fo...|   E117|session closed fo...|\n",
            "|     2|    -|1131566461|2005.11.09|dn228|12:01:01|dn228/dn228|crond(pam_unix)|2915|session opened fo...|   E118|session opened fo...|\n",
            "|     3|    -|1131566461|2005.11.09|dn228|12:01:01|dn228/dn228|          crond|2916|(root) CMD (run-p...|     E3|(root) CMD (run-p...|\n",
            "|     4|    -|1131566461|2005.11.09|dn261|12:01:01|dn261/dn261|crond(pam_unix)|2907|session closed fo...|   E117|session closed fo...|\n",
            "|     5|    -|1131566461|2005.11.09|dn261|12:01:01|dn261/dn261|crond(pam_unix)|2907|session opened fo...|   E118|session opened fo...|\n",
            "|     6|    -|1131566461|2005.11.09|dn261|12:01:01|dn261/dn261|          crond|2908|(root) CMD (run-p...|     E3|(root) CMD (run-p...|\n",
            "|     7|    -|1131566461|2005.11.09|  dn3|12:01:01|    dn3/dn3|crond(pam_unix)|2907|session closed fo...|   E117|session closed fo...|\n",
            "|     8|    -|1131566461|2005.11.09|  dn3|12:01:01|    dn3/dn3|crond(pam_unix)|2907|session opened fo...|   E118|session opened fo...|\n",
            "|     9|    -|1131566461|2005.11.09|  dn3|12:01:01|    dn3/dn3|          crond|2908|(root) CMD (run-p...|     E3|(root) CMD (run-p...|\n",
            "|    10|    -|1131566461|2005.11.09|dn596|12:01:01|dn596/dn596|crond(pam_unix)|2727|session closed fo...|   E117|session closed fo...|\n",
            "|    11|    -|1131566461|2005.11.09|dn596|12:01:01|dn596/dn596|crond(pam_unix)|2727|session opened fo...|   E118|session opened fo...|\n",
            "|    12|    -|1131566461|2005.11.09|dn596|12:01:01|dn596/dn596|          crond|2728|(root) CMD (run-p...|     E3|(root) CMD (run-p...|\n",
            "|    13|    -|1131566461|2005.11.09|dn700|12:01:01|dn700/dn700|crond(pam_unix)|2912|session closed fo...|   E117|session closed fo...|\n",
            "|    14|    -|1131566461|2005.11.09|dn700|12:01:01|dn700/dn700|crond(pam_unix)|2912|session opened fo...|   E118|session opened fo...|\n",
            "|    15|    -|1131566461|2005.11.09|dn700|12:01:01|dn700/dn700|          crond|2913|(root) CMD (run-p...|     E3|(root) CMD (run-p...|\n",
            "|    16|    -|1131566461|2005.11.09| dn73|12:01:01|  dn73/dn73|crond(pam_unix)|2917|session closed fo...|   E117|session closed fo...|\n",
            "|    17|    -|1131566461|2005.11.09| dn73|12:01:01|  dn73/dn73|crond(pam_unix)|2917|session opened fo...|   E118|session opened fo...|\n",
            "|    18|    -|1131566461|2005.11.09| dn73|12:01:01|  dn73/dn73|          crond|2918|(root) CMD (run-p...|     E3|(root) CMD (run-p...|\n",
            "|    19|    -|1131566461|2005.11.09|dn731|12:01:01|dn731/dn731|crond(pam_unix)|2916|session closed fo...|   E117|session closed fo...|\n",
            "|    20|    -|1131566461|2005.11.09|dn731|12:01:01|dn731/dn731|crond(pam_unix)|2916|session opened fo...|   E118|session opened fo...|\n",
            "+------+-----+----------+----------+-----+--------+-----------+---------------+----+--------------------+-------+--------------------+\n",
            "only showing top 20 rows\n",
            "\n"
          ]
        }
      ]
    },
    {
      "cell_type": "code",
      "source": [
        "# Count of total base data\n",
        "\n",
        "base_data.count()"
      ],
      "metadata": {
        "colab": {
          "base_uri": "https://localhost:8080/"
        },
        "id": "xyEBvd1oVmm1",
        "outputId": "dc03e65b-3a50-435b-b3ff-a85bdca6d5cb"
      },
      "execution_count": 107,
      "outputs": [
        {
          "output_type": "execute_result",
          "data": {
            "text/plain": [
              "2000"
            ]
          },
          "metadata": {},
          "execution_count": 107
        }
      ]
    },
    {
      "cell_type": "code",
      "source": [
        "# Checking for total number of null values\n",
        "\n",
        "null_df = base_data.filter(base_data['Timestamp'].isNull() |  base_data['Date'].isNull() |  base_data['User'].isNull() | \\\n",
        "                           base_data['Time'].isNull()| base_data['Location'].isNull() | base_data['Component'].isNull() | \\\n",
        "                           base_data['PID'].isNull() | base_data['Content'].isNull() | base_data['EventId'].isNull() | \\\n",
        "                           base_data['EventTemplate'].isNull())\n",
        "null_df.count()"
      ],
      "metadata": {
        "id": "FInmSUM0UeZm",
        "colab": {
          "base_uri": "https://localhost:8080/"
        },
        "outputId": "8e83aa87-9f31-402d-aca2-2d6218b47108"
      },
      "execution_count": 108,
      "outputs": [
        {
          "output_type": "execute_result",
          "data": {
            "text/plain": [
              "255"
            ]
          },
          "metadata": {},
          "execution_count": 108
        }
      ]
    },
    {
      "cell_type": "code",
      "source": [
        "# Checking for nulls (columnwise)\n",
        "\n",
        "def check_null_cwise(column_name):\n",
        "    return F.sum(F.col(column_name).isNull().cast('integer')).alias(column_name)\n",
        "\n",
        "nulls_CWise = [check_null_cwise(col_name) for col_name in base_data.columns]\n",
        "\n",
        "base_data.agg(*nulls_CWise).show()"
      ],
      "metadata": {
        "colab": {
          "base_uri": "https://localhost:8080/"
        },
        "id": "-XeqYDznVjm8",
        "outputId": "abb4ef1e-40c8-4452-846a-5da9400c12d8"
      },
      "execution_count": 109,
      "outputs": [
        {
          "output_type": "stream",
          "name": "stdout",
          "text": [
            "+------+-----+---------+----+----+----+--------+---------+---+-------+-------+-------------+\n",
            "|LineId|Label|Timestamp|Date|User|Time|Location|Component|PID|Content|EventId|EventTemplate|\n",
            "+------+-----+---------+----+----+----+--------+---------+---+-------+-------+-------------+\n",
            "|     0|    0|        0|   0|   0|   0|       0|        0|255|      0|      0|            0|\n",
            "+------+-----+---------+----+----+----+--------+---------+---+-------+-------+-------------+\n",
            "\n"
          ]
        }
      ]
    },
    {
      "cell_type": "code",
      "source": [
        "# Checking nulls in Process ID\n",
        "\n",
        "pid_nulls_df = base_data.filter(~base_data['PID'].rlike(r'\\s\\d+$'))\n",
        "pid_nulls_df.count()"
      ],
      "metadata": {
        "colab": {
          "base_uri": "https://localhost:8080/"
        },
        "id": "OyqB537SVloB",
        "outputId": "97002cc1-f113-434c-e3ca-beeecf0bf85a"
      },
      "execution_count": 110,
      "outputs": [
        {
          "output_type": "execute_result",
          "data": {
            "text/plain": [
              "1745"
            ]
          },
          "metadata": {},
          "execution_count": 110
        }
      ]
    },
    {
      "cell_type": "code",
      "source": [
        "# Filling null values in Base_Dataframe with 0\n",
        "\n",
        "base_data = base_data.na.fill({'PID': 0})\n"
      ],
      "metadata": {
        "id": "61Pt6sWYVjpl"
      },
      "execution_count": 111,
      "outputs": []
    },
    {
      "cell_type": "code",
      "source": [
        "# Checking for nulls after filling null values\n",
        "\n",
        "nulls_CWise = [check_null_cwise(col_name) for col_name in base_data.columns]\n",
        "\n",
        "base_data.agg(*nulls_CWise).show()"
      ],
      "metadata": {
        "colab": {
          "base_uri": "https://localhost:8080/"
        },
        "id": "7Pvb-OCwVjtB",
        "outputId": "5e99f2e7-0890-40b3-b0fa-4cd5be2712c6"
      },
      "execution_count": 112,
      "outputs": [
        {
          "output_type": "stream",
          "name": "stdout",
          "text": [
            "+------+-----+---------+----+----+----+--------+---------+---+-------+-------+-------------+\n",
            "|LineId|Label|Timestamp|Date|User|Time|Location|Component|PID|Content|EventId|EventTemplate|\n",
            "+------+-----+---------+----+----+----+--------+---------+---+-------+-------+-------------+\n",
            "|     0|    0|        0|   0|   0|   0|       0|        0|  0|      0|      0|            0|\n",
            "+------+-----+---------+----+----+----+--------+---------+---+-------+-------+-------------+\n",
            "\n"
          ]
        }
      ]
    },
    {
      "cell_type": "code",
      "source": [
        "# Checking for schema of  base data\n",
        "\n",
        "base_data.printSchema()"
      ],
      "metadata": {
        "colab": {
          "base_uri": "https://localhost:8080/"
        },
        "id": "rUZFXdkOZXrR",
        "outputId": "539cae81-abe8-4830-ed5e-ee3bae39041e"
      },
      "execution_count": 113,
      "outputs": [
        {
          "output_type": "stream",
          "name": "stdout",
          "text": [
            "root\n",
            " |-- LineId: string (nullable = true)\n",
            " |-- Label: string (nullable = true)\n",
            " |-- Timestamp: string (nullable = true)\n",
            " |-- Date: string (nullable = true)\n",
            " |-- User: string (nullable = true)\n",
            " |-- Time: string (nullable = true)\n",
            " |-- Location: string (nullable = true)\n",
            " |-- Component: string (nullable = true)\n",
            " |-- PID: string (nullable = false)\n",
            " |-- Content: string (nullable = true)\n",
            " |-- EventId: string (nullable = true)\n",
            " |-- EventTemplate: string (nullable = true)\n",
            "\n"
          ]
        }
      ]
    },
    {
      "cell_type": "code",
      "source": [
        "# Since Timestamp column is in format of string we convert it into Timestamp format\n",
        "# Using to_timestamp function\n",
        "\n",
        "base_data=base_data.withColumn(\"Timestamp\",F.to_timestamp(F.col(\"Time\"),\"hh:mm:ss\"))\n",
        "base_data.printSchema()"
      ],
      "metadata": {
        "colab": {
          "base_uri": "https://localhost:8080/"
        },
        "id": "WbZK4EX2Zn-u",
        "outputId": "34829a68-1935-42b0-dcb3-342b9e603d35"
      },
      "execution_count": 114,
      "outputs": [
        {
          "output_type": "stream",
          "name": "stdout",
          "text": [
            "root\n",
            " |-- LineId: string (nullable = true)\n",
            " |-- Label: string (nullable = true)\n",
            " |-- Timestamp: timestamp (nullable = true)\n",
            " |-- Date: string (nullable = true)\n",
            " |-- User: string (nullable = true)\n",
            " |-- Time: string (nullable = true)\n",
            " |-- Location: string (nullable = true)\n",
            " |-- Component: string (nullable = true)\n",
            " |-- PID: string (nullable = false)\n",
            " |-- Content: string (nullable = true)\n",
            " |-- EventId: string (nullable = true)\n",
            " |-- EventTemplate: string (nullable = true)\n",
            "\n"
          ]
        }
      ]
    },
    {
      "cell_type": "code",
      "source": [
        "#Conversion of integer into date\n",
        "\n",
        "base_data=base_data.withColumn(\"Date\",F.to_date(F.col(\"Date\"),\"yyyy.MM.dd\"))\n",
        "base_data.printSchema()\n",
        "base_data.show()"
      ],
      "metadata": {
        "colab": {
          "base_uri": "https://localhost:8080/"
        },
        "id": "rEL1n23rI9xV",
        "outputId": "bd1a33f8-9bb1-4cd5-e1f7-e86d306269c8"
      },
      "execution_count": 115,
      "outputs": [
        {
          "output_type": "stream",
          "name": "stdout",
          "text": [
            "root\n",
            " |-- LineId: string (nullable = true)\n",
            " |-- Label: string (nullable = true)\n",
            " |-- Timestamp: timestamp (nullable = true)\n",
            " |-- Date: date (nullable = true)\n",
            " |-- User: string (nullable = true)\n",
            " |-- Time: string (nullable = true)\n",
            " |-- Location: string (nullable = true)\n",
            " |-- Component: string (nullable = true)\n",
            " |-- PID: string (nullable = false)\n",
            " |-- Content: string (nullable = true)\n",
            " |-- EventId: string (nullable = true)\n",
            " |-- EventTemplate: string (nullable = true)\n",
            "\n",
            "+------+-----+-------------------+----------+-----+--------+-----------+---------------+----+--------------------+-------+--------------------+\n",
            "|LineId|Label|          Timestamp|      Date| User|    Time|   Location|      Component| PID|             Content|EventId|       EventTemplate|\n",
            "+------+-----+-------------------+----------+-----+--------+-----------+---------------+----+--------------------+-------+--------------------+\n",
            "|     1|    -|1970-01-01 00:01:01|2005-11-09|dn228|12:01:01|dn228/dn228|crond(pam_unix)|2915|session closed fo...|   E117|session closed fo...|\n",
            "|     2|    -|1970-01-01 00:01:01|2005-11-09|dn228|12:01:01|dn228/dn228|crond(pam_unix)|2915|session opened fo...|   E118|session opened fo...|\n",
            "|     3|    -|1970-01-01 00:01:01|2005-11-09|dn228|12:01:01|dn228/dn228|          crond|2916|(root) CMD (run-p...|     E3|(root) CMD (run-p...|\n",
            "|     4|    -|1970-01-01 00:01:01|2005-11-09|dn261|12:01:01|dn261/dn261|crond(pam_unix)|2907|session closed fo...|   E117|session closed fo...|\n",
            "|     5|    -|1970-01-01 00:01:01|2005-11-09|dn261|12:01:01|dn261/dn261|crond(pam_unix)|2907|session opened fo...|   E118|session opened fo...|\n",
            "|     6|    -|1970-01-01 00:01:01|2005-11-09|dn261|12:01:01|dn261/dn261|          crond|2908|(root) CMD (run-p...|     E3|(root) CMD (run-p...|\n",
            "|     7|    -|1970-01-01 00:01:01|2005-11-09|  dn3|12:01:01|    dn3/dn3|crond(pam_unix)|2907|session closed fo...|   E117|session closed fo...|\n",
            "|     8|    -|1970-01-01 00:01:01|2005-11-09|  dn3|12:01:01|    dn3/dn3|crond(pam_unix)|2907|session opened fo...|   E118|session opened fo...|\n",
            "|     9|    -|1970-01-01 00:01:01|2005-11-09|  dn3|12:01:01|    dn3/dn3|          crond|2908|(root) CMD (run-p...|     E3|(root) CMD (run-p...|\n",
            "|    10|    -|1970-01-01 00:01:01|2005-11-09|dn596|12:01:01|dn596/dn596|crond(pam_unix)|2727|session closed fo...|   E117|session closed fo...|\n",
            "|    11|    -|1970-01-01 00:01:01|2005-11-09|dn596|12:01:01|dn596/dn596|crond(pam_unix)|2727|session opened fo...|   E118|session opened fo...|\n",
            "|    12|    -|1970-01-01 00:01:01|2005-11-09|dn596|12:01:01|dn596/dn596|          crond|2728|(root) CMD (run-p...|     E3|(root) CMD (run-p...|\n",
            "|    13|    -|1970-01-01 00:01:01|2005-11-09|dn700|12:01:01|dn700/dn700|crond(pam_unix)|2912|session closed fo...|   E117|session closed fo...|\n",
            "|    14|    -|1970-01-01 00:01:01|2005-11-09|dn700|12:01:01|dn700/dn700|crond(pam_unix)|2912|session opened fo...|   E118|session opened fo...|\n",
            "|    15|    -|1970-01-01 00:01:01|2005-11-09|dn700|12:01:01|dn700/dn700|          crond|2913|(root) CMD (run-p...|     E3|(root) CMD (run-p...|\n",
            "|    16|    -|1970-01-01 00:01:01|2005-11-09| dn73|12:01:01|  dn73/dn73|crond(pam_unix)|2917|session closed fo...|   E117|session closed fo...|\n",
            "|    17|    -|1970-01-01 00:01:01|2005-11-09| dn73|12:01:01|  dn73/dn73|crond(pam_unix)|2917|session opened fo...|   E118|session opened fo...|\n",
            "|    18|    -|1970-01-01 00:01:01|2005-11-09| dn73|12:01:01|  dn73/dn73|          crond|2918|(root) CMD (run-p...|     E3|(root) CMD (run-p...|\n",
            "|    19|    -|1970-01-01 00:01:01|2005-11-09|dn731|12:01:01|dn731/dn731|crond(pam_unix)|2916|session closed fo...|   E117|session closed fo...|\n",
            "|    20|    -|1970-01-01 00:01:01|2005-11-09|dn731|12:01:01|dn731/dn731|crond(pam_unix)|2916|session opened fo...|   E118|session opened fo...|\n",
            "+------+-----+-------------------+----------+-----+--------+-----------+---------------+----+--------------------+-------+--------------------+\n",
            "only showing top 20 rows\n",
            "\n"
          ]
        }
      ]
    },
    {
      "cell_type": "code",
      "source": [
        "# Month Extraction\n",
        "\n",
        "base_data=base_data.withColumn(\"Month\",F.month(F.col(\"Date\")))\n",
        "base_data.show()"
      ],
      "metadata": {
        "colab": {
          "base_uri": "https://localhost:8080/"
        },
        "id": "-fYJXogPZoB7",
        "outputId": "875de7d5-4144-4c0d-c579-b83a496c6f77"
      },
      "execution_count": 116,
      "outputs": [
        {
          "output_type": "stream",
          "name": "stdout",
          "text": [
            "+------+-----+-------------------+----------+-----+--------+-----------+---------------+----+--------------------+-------+--------------------+-----+\n",
            "|LineId|Label|          Timestamp|      Date| User|    Time|   Location|      Component| PID|             Content|EventId|       EventTemplate|Month|\n",
            "+------+-----+-------------------+----------+-----+--------+-----------+---------------+----+--------------------+-------+--------------------+-----+\n",
            "|     1|    -|1970-01-01 00:01:01|2005-11-09|dn228|12:01:01|dn228/dn228|crond(pam_unix)|2915|session closed fo...|   E117|session closed fo...|   11|\n",
            "|     2|    -|1970-01-01 00:01:01|2005-11-09|dn228|12:01:01|dn228/dn228|crond(pam_unix)|2915|session opened fo...|   E118|session opened fo...|   11|\n",
            "|     3|    -|1970-01-01 00:01:01|2005-11-09|dn228|12:01:01|dn228/dn228|          crond|2916|(root) CMD (run-p...|     E3|(root) CMD (run-p...|   11|\n",
            "|     4|    -|1970-01-01 00:01:01|2005-11-09|dn261|12:01:01|dn261/dn261|crond(pam_unix)|2907|session closed fo...|   E117|session closed fo...|   11|\n",
            "|     5|    -|1970-01-01 00:01:01|2005-11-09|dn261|12:01:01|dn261/dn261|crond(pam_unix)|2907|session opened fo...|   E118|session opened fo...|   11|\n",
            "|     6|    -|1970-01-01 00:01:01|2005-11-09|dn261|12:01:01|dn261/dn261|          crond|2908|(root) CMD (run-p...|     E3|(root) CMD (run-p...|   11|\n",
            "|     7|    -|1970-01-01 00:01:01|2005-11-09|  dn3|12:01:01|    dn3/dn3|crond(pam_unix)|2907|session closed fo...|   E117|session closed fo...|   11|\n",
            "|     8|    -|1970-01-01 00:01:01|2005-11-09|  dn3|12:01:01|    dn3/dn3|crond(pam_unix)|2907|session opened fo...|   E118|session opened fo...|   11|\n",
            "|     9|    -|1970-01-01 00:01:01|2005-11-09|  dn3|12:01:01|    dn3/dn3|          crond|2908|(root) CMD (run-p...|     E3|(root) CMD (run-p...|   11|\n",
            "|    10|    -|1970-01-01 00:01:01|2005-11-09|dn596|12:01:01|dn596/dn596|crond(pam_unix)|2727|session closed fo...|   E117|session closed fo...|   11|\n",
            "|    11|    -|1970-01-01 00:01:01|2005-11-09|dn596|12:01:01|dn596/dn596|crond(pam_unix)|2727|session opened fo...|   E118|session opened fo...|   11|\n",
            "|    12|    -|1970-01-01 00:01:01|2005-11-09|dn596|12:01:01|dn596/dn596|          crond|2728|(root) CMD (run-p...|     E3|(root) CMD (run-p...|   11|\n",
            "|    13|    -|1970-01-01 00:01:01|2005-11-09|dn700|12:01:01|dn700/dn700|crond(pam_unix)|2912|session closed fo...|   E117|session closed fo...|   11|\n",
            "|    14|    -|1970-01-01 00:01:01|2005-11-09|dn700|12:01:01|dn700/dn700|crond(pam_unix)|2912|session opened fo...|   E118|session opened fo...|   11|\n",
            "|    15|    -|1970-01-01 00:01:01|2005-11-09|dn700|12:01:01|dn700/dn700|          crond|2913|(root) CMD (run-p...|     E3|(root) CMD (run-p...|   11|\n",
            "|    16|    -|1970-01-01 00:01:01|2005-11-09| dn73|12:01:01|  dn73/dn73|crond(pam_unix)|2917|session closed fo...|   E117|session closed fo...|   11|\n",
            "|    17|    -|1970-01-01 00:01:01|2005-11-09| dn73|12:01:01|  dn73/dn73|crond(pam_unix)|2917|session opened fo...|   E118|session opened fo...|   11|\n",
            "|    18|    -|1970-01-01 00:01:01|2005-11-09| dn73|12:01:01|  dn73/dn73|          crond|2918|(root) CMD (run-p...|     E3|(root) CMD (run-p...|   11|\n",
            "|    19|    -|1970-01-01 00:01:01|2005-11-09|dn731|12:01:01|dn731/dn731|crond(pam_unix)|2916|session closed fo...|   E117|session closed fo...|   11|\n",
            "|    20|    -|1970-01-01 00:01:01|2005-11-09|dn731|12:01:01|dn731/dn731|crond(pam_unix)|2916|session opened fo...|   E118|session opened fo...|   11|\n",
            "+------+-----+-------------------+----------+-----+--------+-----------+---------------+----+--------------------+-------+--------------------+-----+\n",
            "only showing top 20 rows\n",
            "\n"
          ]
        }
      ]
    },
    {
      "cell_type": "code",
      "source": [
        "# Year Extraction\n",
        "\n",
        "base_data=base_data.withColumn(\"Year\",F.year(F.col(\"Date\")))\n",
        "base_data.show()"
      ],
      "metadata": {
        "colab": {
          "base_uri": "https://localhost:8080/"
        },
        "id": "jwNa8Vrpeg46",
        "outputId": "e09b611a-c3b3-430c-98e9-946af2113c24"
      },
      "execution_count": 117,
      "outputs": [
        {
          "output_type": "stream",
          "name": "stdout",
          "text": [
            "+------+-----+-------------------+----------+-----+--------+-----------+---------------+----+--------------------+-------+--------------------+-----+----+\n",
            "|LineId|Label|          Timestamp|      Date| User|    Time|   Location|      Component| PID|             Content|EventId|       EventTemplate|Month|Year|\n",
            "+------+-----+-------------------+----------+-----+--------+-----------+---------------+----+--------------------+-------+--------------------+-----+----+\n",
            "|     1|    -|1970-01-01 00:01:01|2005-11-09|dn228|12:01:01|dn228/dn228|crond(pam_unix)|2915|session closed fo...|   E117|session closed fo...|   11|2005|\n",
            "|     2|    -|1970-01-01 00:01:01|2005-11-09|dn228|12:01:01|dn228/dn228|crond(pam_unix)|2915|session opened fo...|   E118|session opened fo...|   11|2005|\n",
            "|     3|    -|1970-01-01 00:01:01|2005-11-09|dn228|12:01:01|dn228/dn228|          crond|2916|(root) CMD (run-p...|     E3|(root) CMD (run-p...|   11|2005|\n",
            "|     4|    -|1970-01-01 00:01:01|2005-11-09|dn261|12:01:01|dn261/dn261|crond(pam_unix)|2907|session closed fo...|   E117|session closed fo...|   11|2005|\n",
            "|     5|    -|1970-01-01 00:01:01|2005-11-09|dn261|12:01:01|dn261/dn261|crond(pam_unix)|2907|session opened fo...|   E118|session opened fo...|   11|2005|\n",
            "|     6|    -|1970-01-01 00:01:01|2005-11-09|dn261|12:01:01|dn261/dn261|          crond|2908|(root) CMD (run-p...|     E3|(root) CMD (run-p...|   11|2005|\n",
            "|     7|    -|1970-01-01 00:01:01|2005-11-09|  dn3|12:01:01|    dn3/dn3|crond(pam_unix)|2907|session closed fo...|   E117|session closed fo...|   11|2005|\n",
            "|     8|    -|1970-01-01 00:01:01|2005-11-09|  dn3|12:01:01|    dn3/dn3|crond(pam_unix)|2907|session opened fo...|   E118|session opened fo...|   11|2005|\n",
            "|     9|    -|1970-01-01 00:01:01|2005-11-09|  dn3|12:01:01|    dn3/dn3|          crond|2908|(root) CMD (run-p...|     E3|(root) CMD (run-p...|   11|2005|\n",
            "|    10|    -|1970-01-01 00:01:01|2005-11-09|dn596|12:01:01|dn596/dn596|crond(pam_unix)|2727|session closed fo...|   E117|session closed fo...|   11|2005|\n",
            "|    11|    -|1970-01-01 00:01:01|2005-11-09|dn596|12:01:01|dn596/dn596|crond(pam_unix)|2727|session opened fo...|   E118|session opened fo...|   11|2005|\n",
            "|    12|    -|1970-01-01 00:01:01|2005-11-09|dn596|12:01:01|dn596/dn596|          crond|2728|(root) CMD (run-p...|     E3|(root) CMD (run-p...|   11|2005|\n",
            "|    13|    -|1970-01-01 00:01:01|2005-11-09|dn700|12:01:01|dn700/dn700|crond(pam_unix)|2912|session closed fo...|   E117|session closed fo...|   11|2005|\n",
            "|    14|    -|1970-01-01 00:01:01|2005-11-09|dn700|12:01:01|dn700/dn700|crond(pam_unix)|2912|session opened fo...|   E118|session opened fo...|   11|2005|\n",
            "|    15|    -|1970-01-01 00:01:01|2005-11-09|dn700|12:01:01|dn700/dn700|          crond|2913|(root) CMD (run-p...|     E3|(root) CMD (run-p...|   11|2005|\n",
            "|    16|    -|1970-01-01 00:01:01|2005-11-09| dn73|12:01:01|  dn73/dn73|crond(pam_unix)|2917|session closed fo...|   E117|session closed fo...|   11|2005|\n",
            "|    17|    -|1970-01-01 00:01:01|2005-11-09| dn73|12:01:01|  dn73/dn73|crond(pam_unix)|2917|session opened fo...|   E118|session opened fo...|   11|2005|\n",
            "|    18|    -|1970-01-01 00:01:01|2005-11-09| dn73|12:01:01|  dn73/dn73|          crond|2918|(root) CMD (run-p...|     E3|(root) CMD (run-p...|   11|2005|\n",
            "|    19|    -|1970-01-01 00:01:01|2005-11-09|dn731|12:01:01|dn731/dn731|crond(pam_unix)|2916|session closed fo...|   E117|session closed fo...|   11|2005|\n",
            "|    20|    -|1970-01-01 00:01:01|2005-11-09|dn731|12:01:01|dn731/dn731|crond(pam_unix)|2916|session opened fo...|   E118|session opened fo...|   11|2005|\n",
            "+------+-----+-------------------+----------+-----+--------+-----------+---------------+----+--------------------+-------+--------------------+-----+----+\n",
            "only showing top 20 rows\n",
            "\n"
          ]
        }
      ]
    },
    {
      "cell_type": "code",
      "source": [
        "# After Preprocessing printing schema\n",
        "\n",
        "base_data.printSchema()"
      ],
      "metadata": {
        "colab": {
          "base_uri": "https://localhost:8080/"
        },
        "id": "Gz2Cycdje4gK",
        "outputId": "eec30c32-8aae-4368-eccd-bc16a4ef719d"
      },
      "execution_count": 118,
      "outputs": [
        {
          "output_type": "stream",
          "name": "stdout",
          "text": [
            "root\n",
            " |-- LineId: string (nullable = true)\n",
            " |-- Label: string (nullable = true)\n",
            " |-- Timestamp: timestamp (nullable = true)\n",
            " |-- Date: date (nullable = true)\n",
            " |-- User: string (nullable = true)\n",
            " |-- Time: string (nullable = true)\n",
            " |-- Location: string (nullable = true)\n",
            " |-- Component: string (nullable = true)\n",
            " |-- PID: string (nullable = false)\n",
            " |-- Content: string (nullable = true)\n",
            " |-- EventId: string (nullable = true)\n",
            " |-- EventTemplate: string (nullable = true)\n",
            " |-- Month: integer (nullable = true)\n",
            " |-- Year: integer (nullable = true)\n",
            "\n"
          ]
        }
      ]
    },
    {
      "cell_type": "code",
      "source": [
        "base_data.groupBy(\"Location\").count().show()"
      ],
      "metadata": {
        "colab": {
          "base_uri": "https://localhost:8080/"
        },
        "id": "knUZx7lQiB4T",
        "outputId": "4bf252f0-f8d1-469e-ca0b-9bf19e8d3477"
      },
      "execution_count": 119,
      "outputs": [
        {
          "output_type": "stream",
          "name": "stdout",
          "text": [
            "+-----------+-----+\n",
            "|   Location|count|\n",
            "+-----------+-----+\n",
            "|dn125/dn125|    1|\n",
            "|src@aadmin4|    8|\n",
            "|cn250/cn250|    1|\n",
            "|bn138/bn138|    3|\n",
            "|dn210/dn210|    1|\n",
            "|cn103/cn103|    2|\n",
            "|cn296/cn296|    1|\n",
            "|cn672/cn672|    1|\n",
            "|cn991/cn991|    1|\n",
            "|cn235/cn235|    1|\n",
            "|bn857/bn857|    1|\n",
            "|cn413/cn413|    1|\n",
            "|cn763/cn763|    1|\n",
            "|bn468/bn468|    1|\n",
            "|cn974/cn974|    1|\n",
            "|bn251/bn251|    1|\n",
            "|cn518/cn518|    1|\n",
            "|cn375/cn375|    1|\n",
            "|cn500/cn500|    1|\n",
            "|cn468/cn468|    1|\n",
            "+-----------+-----+\n",
            "only showing top 20 rows\n",
            "\n"
          ]
        }
      ]
    },
    {
      "cell_type": "code",
      "source": [
        "base_data.groupBy(\"Component\").count().show()"
      ],
      "metadata": {
        "colab": {
          "base_uri": "https://localhost:8080/"
        },
        "id": "AYXjDOKdiB6p",
        "outputId": "049bb5d4-17fb-4624-a6c4-64445a4f1f20"
      },
      "execution_count": 120,
      "outputs": [
        {
          "output_type": "stream",
          "name": "stdout",
          "text": [
            "+--------------------+-----+\n",
            "|           Component|count|\n",
            "+--------------------+-----+\n",
            "|                 VFS|    2|\n",
            "|                CPU0|    1|\n",
            "|                ide0|    1|\n",
            "|              #NAME?|    1|\n",
            "|              xinetd|   37|\n",
            "|              time.c|    3|\n",
            "|     crond(pam_unix)|   43|\n",
            "|  IA32 emulation $Id|    1|\n",
            "|            ts_fixup|    1|\n",
            "|             usbcore|    4|\n",
            "|              gmetad|   36|\n",
            "|                ide3|    1|\n",
            "|                mice|    1|\n",
            "|               e1000|    3|\n",
            "|                 ide|    1|\n",
            "|                 CPU|   15|\n",
            "|                scsi|    2|\n",
            "|checking TSC sync...|    1|\n",
            "|             nfslock|    1|\n",
            "|              scsi0 |    1|\n",
            "+--------------------+-----+\n",
            "only showing top 20 rows\n",
            "\n"
          ]
        }
      ]
    },
    {
      "cell_type": "code",
      "source": [
        "# Starting the process of clustering\n",
        "\n",
        "# Using pipelining and prameter grids\n",
        "\n",
        "# Using K-Means and Latent Dirichlet allocation Clustering Methods"
      ],
      "metadata": {
        "id": "jZFPKUOl1a1t"
      },
      "execution_count": 121,
      "outputs": []
    },
    {
      "cell_type": "code",
      "source": [
        "# Importing necessary classes and packages\n",
        "\n",
        "from pyspark.ml.feature import StringIndexer, VectorAssembler\n",
        "from pyspark.ml import Pipeline\n",
        "import numpy as np\n",
        "import pandas as pd\n",
        "import seaborn as sns\n",
        "import matplotlib.pyplot as plt\n",
        "from pyspark.ml.tuning import CrossValidator, ParamGridBuilder\n",
        "from pyspark.ml.evaluation import ClusteringEvaluator\n",
        "from pyspark.ml.clustering import KMeans\n",
        "from pyspark.ml.clustering import GaussianMixture"
      ],
      "metadata": {
        "id": "mrla_fjo11WR"
      },
      "execution_count": 122,
      "outputs": []
    },
    {
      "cell_type": "code",
      "source": [
        "# Creating a copy of base_data\n",
        "\n",
        "df=base_data"
      ],
      "metadata": {
        "id": "8fuXiWYOu6kK"
      },
      "execution_count": 123,
      "outputs": []
    },
    {
      "cell_type": "code",
      "source": [
        "# Creating String indexers for multiple columns\n",
        "\n",
        "\n",
        "component_indexer = StringIndexer(inputCol=\"Component\", outputCol=\"component_index\")\n",
        "\n",
        "user_indexer = StringIndexer(inputCol=\"User\", outputCol=\"user_index\")\n",
        "\n",
        "location_indexer = StringIndexer(inputCol=\"Location\", outputCol=\"location_index\")\n"
      ],
      "metadata": {
        "id": "6glv97nX2N7_"
      },
      "execution_count": 124,
      "outputs": []
    },
    {
      "cell_type": "code",
      "source": [
        "# Creating a vector assembler\n",
        "\n",
        "# Definign Input Columns\n",
        "\n",
        "input_cols = ['component_index', 'user_index', 'location_index']\n",
        "\n",
        "vector_assembler = VectorAssembler(inputCols=input_cols, outputCol=\"features\")"
      ],
      "metadata": {
        "id": "H5aBuAjV2M26"
      },
      "execution_count": 125,
      "outputs": []
    },
    {
      "cell_type": "code",
      "source": [
        "# creating stages of pipeline\n",
        "\n",
        "stages = [component_indexer, user_indexer, location_indexer, vector_assembler]\n",
        "\n",
        "# Making a pipeline with available stages\n",
        "\n",
        "pipeline = Pipeline(stages=stages)"
      ],
      "metadata": {
        "id": "zYgvjyV2nVVw"
      },
      "execution_count": 126,
      "outputs": []
    },
    {
      "cell_type": "code",
      "source": [
        "# Fitting the complete data into pipeline\n",
        "\n",
        "final_pipeline = pipeline.fit(df)\n",
        "final_tranformed_data = final_pipeline.transform(df)\n",
        "final_tranformed_data.show(5)"
      ],
      "metadata": {
        "colab": {
          "base_uri": "https://localhost:8080/"
        },
        "id": "lgynQWtBxAfz",
        "outputId": "3d699405-7d7d-4d86-92c2-5600970ce158"
      },
      "execution_count": 127,
      "outputs": [
        {
          "output_type": "stream",
          "name": "stdout",
          "text": [
            "+------+-----+-------------------+----------+-----+--------+-----------+---------------+----+--------------------+-------+--------------------+-----+----+---------------+----------+--------------+---------------+\n",
            "|LineId|Label|          Timestamp|      Date| User|    Time|   Location|      Component| PID|             Content|EventId|       EventTemplate|Month|Year|component_index|user_index|location_index|       features|\n",
            "+------+-----+-------------------+----------+-----+--------+-----------+---------------+----+--------------------+-------+--------------------+-----+----+---------------+----------+--------------+---------------+\n",
            "|     1|    -|1970-01-01 00:01:01|2005-11-09|dn228|12:01:01|dn228/dn228|crond(pam_unix)|2915|session closed fo...|   E117|session closed fo...|   11|2005|            4.0|      24.0|          24.0|[4.0,24.0,24.0]|\n",
            "|     2|    -|1970-01-01 00:01:01|2005-11-09|dn228|12:01:01|dn228/dn228|crond(pam_unix)|2915|session opened fo...|   E118|session opened fo...|   11|2005|            4.0|      24.0|          24.0|[4.0,24.0,24.0]|\n",
            "|     3|    -|1970-01-01 00:01:01|2005-11-09|dn228|12:01:01|dn228/dn228|          crond|2916|(root) CMD (run-p...|     E3|(root) CMD (run-p...|   11|2005|            9.0|      24.0|          24.0|[9.0,24.0,24.0]|\n",
            "|     4|    -|1970-01-01 00:01:01|2005-11-09|dn261|12:01:01|dn261/dn261|crond(pam_unix)|2907|session closed fo...|   E117|session closed fo...|   11|2005|            4.0|      25.0|          25.0|[4.0,25.0,25.0]|\n",
            "|     5|    -|1970-01-01 00:01:01|2005-11-09|dn261|12:01:01|dn261/dn261|crond(pam_unix)|2907|session opened fo...|   E118|session opened fo...|   11|2005|            4.0|      25.0|          25.0|[4.0,25.0,25.0]|\n",
            "+------+-----+-------------------+----------+-----+--------+-----------+---------------+----+--------------------+-------+--------------------+-----+----+---------------+----------+--------------+---------------+\n",
            "only showing top 5 rows\n",
            "\n"
          ]
        }
      ]
    },
    {
      "cell_type": "code",
      "source": [
        "# Making train and test data\n",
        "\n",
        "train_data, test_data = df.randomSplit([0.8, 0.2], seed=42)"
      ],
      "metadata": {
        "id": "bA0GByxot0w1"
      },
      "execution_count": 128,
      "outputs": []
    },
    {
      "cell_type": "code",
      "source": [
        "# Feature Assembling for train data\n",
        "\n",
        "final_pipeline_train = pipeline.fit(train_data)\n",
        "final_train = final_pipeline_train.transform(train_data)\n",
        "final_train.select('features').show(5)"
      ],
      "metadata": {
        "colab": {
          "base_uri": "https://localhost:8080/"
        },
        "id": "YqExJyLgupUW",
        "outputId": "c736d274-2e82-4615-f0e5-cc4ae31ae79f"
      },
      "execution_count": 129,
      "outputs": [
        {
          "output_type": "stream",
          "name": "stdout",
          "text": [
            "+-----------------+\n",
            "|         features|\n",
            "+-----------------+\n",
            "|  [4.0,15.0,15.0]|\n",
            "|  [4.0,72.0,72.0]|\n",
            "|[1.0,235.0,235.0]|\n",
            "|  [1.0,43.0,43.0]|\n",
            "|[1.0,287.0,287.0]|\n",
            "+-----------------+\n",
            "only showing top 5 rows\n",
            "\n"
          ]
        }
      ]
    },
    {
      "cell_type": "code",
      "source": [
        "# Feature Assembling for test data\n",
        "\n",
        "final_pipeline_test = pipeline.fit(test_data)\n",
        "final_test = final_pipeline_test.transform(test_data)\n",
        "final_test.select('features').show(5)"
      ],
      "metadata": {
        "colab": {
          "base_uri": "https://localhost:8080/"
        },
        "id": "Efa6dOIhu-zZ",
        "outputId": "f9dcd4c9-639e-4f87-9e4c-d5c5bc4b3b25"
      },
      "execution_count": 130,
      "outputs": [
        {
          "output_type": "stream",
          "name": "stdout",
          "text": [
            "+---------------+\n",
            "|       features|\n",
            "+---------------+\n",
            "|      (3,[],[])|\n",
            "|      (3,[],[])|\n",
            "|      (3,[],[])|\n",
            "|  [7.0,3.0,3.0]|\n",
            "|[1.0,37.0,35.0]|\n",
            "+---------------+\n",
            "only showing top 5 rows\n",
            "\n"
          ]
        }
      ]
    },
    {
      "cell_type": "code",
      "source": [
        "# Defining k values and cost\n",
        "\n",
        "k_values = range(2, 10)\n",
        "costs_kmeans = []"
      ],
      "metadata": {
        "id": "IkBj60WvwmX1"
      },
      "execution_count": 131,
      "outputs": []
    },
    {
      "cell_type": "code",
      "source": [
        "# Finding the training cost for K-Means Algorithm\n",
        "\n",
        "for i in k_values:\n",
        "    kmeans = KMeans(k=i, seed=1, featuresCol='features')\n",
        "    model_kmeans = kmeans.fit(final_train)\n",
        "    cost_kmeans = model_kmeans.summary.trainingCost\n",
        "    costs_kmeans.append(cost_kmeans)"
      ],
      "metadata": {
        "id": "cHuTW8g2wxBq"
      },
      "execution_count": 132,
      "outputs": []
    },
    {
      "cell_type": "code",
      "source": [
        "# Conversion of training costs corresponding to number of clusters\n",
        "\n",
        "costs_array_kmeans = np.array(costs_kmeans)\n",
        "costs_array_kmeans"
      ],
      "metadata": {
        "colab": {
          "base_uri": "https://localhost:8080/"
        },
        "id": "aF-nRIWyyOz3",
        "outputId": "11b0322c-ef17-449b-bd13-373c4bfe9460"
      },
      "execution_count": 133,
      "outputs": [
        {
          "output_type": "execute_result",
          "data": {
            "text/plain": [
              "array([5329043.74087472, 2242089.39368239, 1219359.00841956,\n",
              "        758081.9546324 ,  540650.76752293,  423667.24487665,\n",
              "        350226.93691154,  296501.30209044])"
            ]
          },
          "metadata": {},
          "execution_count": 133
        }
      ]
    },
    {
      "cell_type": "code",
      "source": [
        "# Elbow plot for K-Means Model\n",
        "\n",
        "plt.plot(k_values, costs_kmeans, marker='o', linestyle='-')\n",
        "plt.xlabel('Number of Clusters (K)')\n",
        "plt.ylabel('Training Cost')\n",
        "plt.title('Elbow Plot for K-Means')\n",
        "plt.grid(True)\n",
        "plt.show()"
      ],
      "metadata": {
        "colab": {
          "base_uri": "https://localhost:8080/",
          "height": 472
        },
        "id": "s03DILrSyW3Q",
        "outputId": "664bd601-b079-4e69-fbfc-d01efd2be667"
      },
      "execution_count": 134,
      "outputs": [
        {
          "output_type": "display_data",
          "data": {
            "text/plain": [
              "<Figure size 640x480 with 1 Axes>"
            ],
            "image/png": "[encoded data removed]"
          },
          "metadata": {}
        }
      ]
    },
    {
      "cell_type": "code",
      "source": [
        "# Defining k-means model\n",
        "\n",
        "kmeans = KMeans()"
      ],
      "metadata": {
        "id": "9Tv3dm14iCCw"
      },
      "execution_count": 135,
      "outputs": []
    },
    {
      "cell_type": "code",
      "source": [
        "# Building a paramGrid to identify best parameters\n",
        "\n",
        "paramGrid_kmeans = ParamGridBuilder() \\\n",
        "    .addGrid(kmeans.k, [3, 5, 7]) \\\n",
        "    .addGrid(kmeans.maxIter, [3, 5, 10]) \\\n",
        "    .addGrid(kmeans.seed, [1, 3, 5]) \\\n",
        "    .build()"
      ],
      "metadata": {
        "id": "Yb96XJNErRPG"
      },
      "execution_count": 136,
      "outputs": []
    },
    {
      "cell_type": "code",
      "source": [
        "# Creating a cross validator\n",
        "\n",
        "crossval_kmeans = CrossValidator(estimator=kmeans, estimatorParamMaps=paramGrid_kmeans, \\\n",
        "                      evaluator=ClusteringEvaluator(),\n",
        "                      numFolds=5)"
      ],
      "metadata": {
        "id": "feDGQBi1rRR4"
      },
      "execution_count": 137,
      "outputs": []
    },
    {
      "cell_type": "code",
      "source": [
        "# Finding best model with various combinations of paramters\n",
        "\n",
        "cvModel_kmeans = crossval_kmeans.fit(final_train)\n",
        "best_model_kmeans = cvModel_kmeans.bestModel\n",
        "predictions_kmeans = best_model_kmeans.transform(final_test)\n",
        "predictions_kmeans.show(5)"
      ],
      "metadata": {
        "colab": {
          "base_uri": "https://localhost:8080/"
        },
        "id": "aEPn_OQXrRUB",
        "outputId": "76d2e991-7f14-4752-a118-aafe862ed729"
      },
      "execution_count": 154,
      "outputs": [
        {
          "output_type": "stream",
          "name": "stdout",
          "text": [
            "+------+-----+-------------------+----------+------------+--------+------------------+--------------------+-----+--------------------+-------+--------------------+-----+----+---------------+----------+--------------+---------------+----------+\n",
            "|LineId|Label|          Timestamp|      Date|        User|    Time|          Location|           Component|  PID|             Content|EventId|       EventTemplate|Month|Year|component_index|user_index|location_index|       features|prediction|\n",
            "+------+-----+-------------------+----------+------------+--------+------------------+--------------------+-----+--------------------+-------+--------------------+-----+----+---------------+----------+--------------+---------------+----------+\n",
            "|   100|    -|1970-01-01 00:01:31|2005-11-09|tbird-admin1|12:01:31|local@tbird-admin1|/apps/x86_64/syst...| 1682|data_thread() got...|    E32|data_thread() got...|   11|2005|            0.0|       0.0|           0.0|      (3,[],[])|         0|\n",
            "|  1003|    -|1970-01-01 00:09:08|2005-11-09|tbird-admin1|12:09:08|local@tbird-admin1|/apps/x86_64/syst...| 1682|data_thread() got...|    E32|data_thread() got...|   11|2005|            0.0|       0.0|           0.0|      (3,[],[])|         0|\n",
            "|  1005|    -|1970-01-01 00:09:09|2005-11-09|tbird-admin1|12:09:09|local@tbird-admin1|/apps/x86_64/syst...| 1682|RRD_update (/var/...|   E111|RRD_update (/var/...|   11|2005|            0.0|       0.0|           0.0|      (3,[],[])|         0|\n",
            "|   101|    -|1970-01-01 00:01:32|2005-11-09|     badmin1|12:01:32|       src@badmin1|            sendmail|11176|unable to qualify...|   E131|unable to qualify...|   11|2005|            7.0|       3.0|           3.0|  [7.0,3.0,3.0]|         0|\n",
            "|  1015|    -|1970-01-01 00:09:16|2005-11-09|       bn647|12:09:16|       bn647/bn647|                ntpd|30260|synchronized to 1...|   E125|synchronized to <...|   11|2005|            1.0|      37.0|          35.0|[1.0,37.0,35.0]|         0|\n",
            "+------+-----+-------------------+----------+------------+--------+------------------+--------------------+-----+--------------------+-------+--------------------+-----+----+---------------+----------+--------------+---------------+----------+\n",
            "only showing top 5 rows\n",
            "\n"
          ]
        }
      ]
    },
    {
      "cell_type": "code",
      "source": [
        "# Finding the K value of best model\n",
        "\n",
        "best_modelK = best_model_kmeans.getK()\n",
        "print(best_modelK)"
      ],
      "metadata": {
        "colab": {
          "base_uri": "https://localhost:8080/"
        },
        "id": "c3k5gOIq04TB",
        "outputId": "70ae80e2-34b1-487c-c49a-9dac8006338f"
      },
      "execution_count": 139,
      "outputs": [
        {
          "output_type": "stream",
          "name": "stdout",
          "text": [
            "3\n"
          ]
        }
      ]
    },
    {
      "cell_type": "code",
      "source": [
        "# Creating a clustering evaluator\n",
        "\n",
        "evaluator = ClusteringEvaluator()\n",
        "\n",
        "silhouette = evaluator.evaluate(predictions_kmeans)\n",
        "print(\"Silhouette with squared euclidean distance = \" + str(silhouette))\n"
      ],
      "metadata": {
        "colab": {
          "base_uri": "https://localhost:8080/"
        },
        "id": "9Q3SOPaUq3la",
        "outputId": "e48a129c-6fe2-4df0-e613-fa147bb074fd"
      },
      "execution_count": 140,
      "outputs": [
        {
          "output_type": "stream",
          "name": "stdout",
          "text": [
            "Silhouette with squared euclidean distance = 0.8197286418396971\n"
          ]
        }
      ]
    },
    {
      "cell_type": "code",
      "source": [
        "# Convertion of clusters\n",
        "\n",
        "from pyspark.sql.functions import when\n",
        "\n",
        "predictions_kmeans = predictions_kmeans.withColumn('prediction',\n",
        "    when(predictions_kmeans['prediction'] == \"0\", 'Cluster 1')\n",
        "    .when(predictions_kmeans['prediction'] == \"1\", 'Cluster 2')\n",
        "    .otherwise('Cluster 3')\n",
        ")\n",
        "\n",
        "predictions_kmeans.show(5)"
      ],
      "metadata": {
        "colab": {
          "base_uri": "https://localhost:8080/"
        },
        "id": "o-_IoRvnJMqi",
        "outputId": "70cc7419-00cc-4dcc-ea73-301906780ae2"
      },
      "execution_count": 141,
      "outputs": [
        {
          "output_type": "stream",
          "name": "stdout",
          "text": [
            "+------+-----+-------------------+----------+------------+--------+------------------+--------------------+-----+--------------------+-------+--------------------+-----+----+---------------+----------+--------------+---------------+----------+\n",
            "|LineId|Label|          Timestamp|      Date|        User|    Time|          Location|           Component|  PID|             Content|EventId|       EventTemplate|Month|Year|component_index|user_index|location_index|       features|prediction|\n",
            "+------+-----+-------------------+----------+------------+--------+------------------+--------------------+-----+--------------------+-------+--------------------+-----+----+---------------+----------+--------------+---------------+----------+\n",
            "|   100|    -|1970-01-01 00:01:31|2005-11-09|tbird-admin1|12:01:31|local@tbird-admin1|/apps/x86_64/syst...| 1682|data_thread() got...|    E32|data_thread() got...|   11|2005|            0.0|       0.0|           0.0|      (3,[],[])| Cluster 1|\n",
            "|  1003|    -|1970-01-01 00:09:08|2005-11-09|tbird-admin1|12:09:08|local@tbird-admin1|/apps/x86_64/syst...| 1682|data_thread() got...|    E32|data_thread() got...|   11|2005|            0.0|       0.0|           0.0|      (3,[],[])| Cluster 1|\n",
            "|  1005|    -|1970-01-01 00:09:09|2005-11-09|tbird-admin1|12:09:09|local@tbird-admin1|/apps/x86_64/syst...| 1682|RRD_update (/var/...|   E111|RRD_update (/var/...|   11|2005|            0.0|       0.0|           0.0|      (3,[],[])| Cluster 1|\n",
            "|   101|    -|1970-01-01 00:01:32|2005-11-09|     badmin1|12:01:32|       src@badmin1|            sendmail|11176|unable to qualify...|   E131|unable to qualify...|   11|2005|            7.0|       3.0|           3.0|  [7.0,3.0,3.0]| Cluster 1|\n",
            "|  1015|    -|1970-01-01 00:09:16|2005-11-09|       bn647|12:09:16|       bn647/bn647|                ntpd|30260|synchronized to 1...|   E125|synchronized to <...|   11|2005|            1.0|      37.0|          35.0|[1.0,37.0,35.0]| Cluster 1|\n",
            "+------+-----+-------------------+----------+------------+--------+------------------+--------------------+-----+--------------------+-------+--------------------+-----+----+---------------+----------+--------------+---------------+----------+\n",
            "only showing top 5 rows\n",
            "\n"
          ]
        }
      ]
    },
    {
      "cell_type": "code",
      "source": [
        "# Converting into a pandas datatype to plot\n",
        "\n",
        "predictions_kmeans_pandas=predictions_kmeans.toPandas()"
      ],
      "metadata": {
        "id": "qkHtnsJIJMuw"
      },
      "execution_count": 142,
      "outputs": []
    },
    {
      "cell_type": "code",
      "source": [
        "# Identifying the  number of inputs\n",
        "\n",
        "print(predictions_kmeans.count())"
      ],
      "metadata": {
        "id": "FWIMy4u0xtuq",
        "outputId": "d7420289-73fd-4908-e410-934eb7923195",
        "colab": {
          "base_uri": "https://localhost:8080/"
        }
      },
      "execution_count": 155,
      "outputs": [
        {
          "output_type": "stream",
          "name": "stdout",
          "text": [
            "358\n"
          ]
        }
      ]
    },
    {
      "cell_type": "code",
      "source": [
        "# Visualizing clusters\n",
        "\n",
        "\n",
        "prediction_counts = predictions_kmeans_pandas['prediction'].value_counts()\n",
        "sns.barplot(x=predictions_clusters.index, y=prediction_counts.values, color='steelblue', width=0.3)\n",
        "plt.xlabel('Clusters')\n",
        "plt.ylabel('No of users')\n",
        "plt.show()"
      ],
      "metadata": {
        "colab": {
          "base_uri": "https://localhost:8080/",
          "height": 449
        },
        "id": "TRYUX_fdJ5Rd",
        "outputId": "06e4bcf1-679b-41d6-a1d8-ec86a7160ad3"
      },
      "execution_count": 164,
      "outputs": [
        {
          "output_type": "display_data",
          "data": {
            "text/plain": [
              "<Figure size 640x480 with 1 Axes>"
            ],
            "image/png": "[encoded data removed]"
          },
          "metadata": {}
        }
      ]
    },
    {
      "cell_type": "code",
      "source": [
        "# Defining gmx model\n",
        "\n",
        "gmx = GaussianMixture()"
      ],
      "metadata": {
        "id": "vuKxK-it3Vhw"
      },
      "execution_count": 144,
      "outputs": []
    },
    {
      "cell_type": "code",
      "source": [
        "# Building a paramGrid to identify best parameters\n",
        "\n",
        "paramGrid_gmx = ParamGridBuilder() \\\n",
        "    .addGrid(gmx.k, [2, 3, 5, 7]) \\\n",
        "    .addGrid(gmx.aggregationDepth, [3, 5]) \\\n",
        "    .addGrid(gmx.maxIter, [2, 5, 7, 10]) \\\n",
        "    .build()"
      ],
      "metadata": {
        "id": "HABdpR7ByvqB"
      },
      "execution_count": 145,
      "outputs": []
    },
    {
      "cell_type": "code",
      "source": [
        "# Creating a cross validator\n",
        "\n",
        "crossval_gmx = CrossValidator(estimator=gmx, estimatorParamMaps=paramGrid_gmx, \\\n",
        "                      evaluator=ClusteringEvaluator(), \\\n",
        "                      numFolds=5)"
      ],
      "metadata": {
        "id": "N-AcRfBJq3ol"
      },
      "execution_count": 146,
      "outputs": []
    },
    {
      "cell_type": "code",
      "source": [
        "# Finding best model with various combinations of paramters\n",
        "\n",
        "cvModel_gmx = crossval_gmx.fit(final_train)\n",
        "best_model_gmx = cvModel_gmx.bestModel\n",
        "predictions_gmx = best_model_gmx.transform(final_test)\n",
        "predictions_gmx.show(5)"
      ],
      "metadata": {
        "colab": {
          "base_uri": "https://localhost:8080/"
        },
        "id": "-DLn13N9zVTj",
        "outputId": "053346fd-97f4-4956-b38e-3608a6a2898c"
      },
      "execution_count": 147,
      "outputs": [
        {
          "output_type": "stream",
          "name": "stdout",
          "text": [
            "+------+-----+-------------------+----------+------------+--------+------------------+--------------------+-----+--------------------+-------+--------------------+-----+----+---------------+----------+--------------+---------------+--------------------+----------+\n",
            "|LineId|Label|          Timestamp|      Date|        User|    Time|          Location|           Component|  PID|             Content|EventId|       EventTemplate|Month|Year|component_index|user_index|location_index|       features|         probability|prediction|\n",
            "+------+-----+-------------------+----------+------------+--------+------------------+--------------------+-----+--------------------+-------+--------------------+-----+----+---------------+----------+--------------+---------------+--------------------+----------+\n",
            "|   100|    -|1970-01-01 00:01:31|2005-11-09|tbird-admin1|12:01:31|local@tbird-admin1|/apps/x86_64/syst...| 1682|data_thread() got...|    E32|data_thread() got...|   11|2005|            0.0|       0.0|           0.0|      (3,[],[])|[8.31164815561860...|         2|\n",
            "|  1003|    -|1970-01-01 00:09:08|2005-11-09|tbird-admin1|12:09:08|local@tbird-admin1|/apps/x86_64/syst...| 1682|data_thread() got...|    E32|data_thread() got...|   11|2005|            0.0|       0.0|           0.0|      (3,[],[])|[8.31164815561860...|         2|\n",
            "|  1005|    -|1970-01-01 00:09:09|2005-11-09|tbird-admin1|12:09:09|local@tbird-admin1|/apps/x86_64/syst...| 1682|RRD_update (/var/...|   E111|RRD_update (/var/...|   11|2005|            0.0|       0.0|           0.0|      (3,[],[])|[8.31164815561860...|         2|\n",
            "|   101|    -|1970-01-01 00:01:32|2005-11-09|     badmin1|12:01:32|       src@badmin1|            sendmail|11176|unable to qualify...|   E131|unable to qualify...|   11|2005|            7.0|       3.0|           3.0|  [7.0,3.0,3.0]|[7.95958385133148...|         2|\n",
            "|  1015|    -|1970-01-01 00:09:16|2005-11-09|       bn647|12:09:16|       bn647/bn647|                ntpd|30260|synchronized to 1...|   E125|synchronized to <...|   11|2005|            1.0|      37.0|          35.0|[1.0,37.0,35.0]|[7.03621731800065...|         1|\n",
            "+------+-----+-------------------+----------+------------+--------+------------------+--------------------+-----+--------------------+-------+--------------------+-----+----+---------------+----------+--------------+---------------+--------------------+----------+\n",
            "only showing top 5 rows\n",
            "\n"
          ]
        }
      ]
    },
    {
      "cell_type": "code",
      "source": [
        "# Finding the K value of best model\n",
        "\n",
        "best_modelK = best_model_gmx.getK()\n",
        "print(best_modelK)"
      ],
      "metadata": {
        "colab": {
          "base_uri": "https://localhost:8080/"
        },
        "id": "Ctq5q2Fw5bmg",
        "outputId": "170bc8b7-ed8c-4159-87f7-e467cf1769fc"
      },
      "execution_count": 148,
      "outputs": [
        {
          "output_type": "stream",
          "name": "stdout",
          "text": [
            "3\n"
          ]
        }
      ]
    },
    {
      "cell_type": "code",
      "source": [
        "# Creating a clustering evaluator\n",
        "\n",
        "evaluator = ClusteringEvaluator()\n",
        "\n",
        "silhouette = evaluator.evaluate(predictions_gmx)\n",
        "print(\"Silhouette with squared euclidean distance = \" + str(silhouette))"
      ],
      "metadata": {
        "colab": {
          "base_uri": "https://localhost:8080/"
        },
        "id": "WLAwWpSk5bp7",
        "outputId": "a15b460e-7b74-4280-a6b6-5af36e59f2af"
      },
      "execution_count": 149,
      "outputs": [
        {
          "output_type": "stream",
          "name": "stdout",
          "text": [
            "Silhouette with squared euclidean distance = 0.6978390971331095\n"
          ]
        }
      ]
    },
    {
      "cell_type": "code",
      "source": [
        "# Convertion of clusters\n",
        "\n",
        "from pyspark.sql.functions import when\n",
        "\n",
        "predictions_gmx = predictions_gmx.withColumn('prediction',\n",
        "    when(predictions_gmx['prediction'] == \"0\", 'Cluster 1')\n",
        "    .when(predictions_gmx['prediction'] == \"1\", 'Cluster 2')\n",
        "    .otherwise('Cluster 3')\n",
        ")\n",
        "\n",
        "predictions_gmx.show(5)"
      ],
      "metadata": {
        "colab": {
          "base_uri": "https://localhost:8080/"
        },
        "id": "UFmERHleEiI-",
        "outputId": "33801d21-18b2-4c83-ea59-33cf13868230"
      },
      "execution_count": 150,
      "outputs": [
        {
          "output_type": "stream",
          "name": "stdout",
          "text": [
            "+------+-----+-------------------+----------+------------+--------+------------------+--------------------+-----+--------------------+-------+--------------------+-----+----+---------------+----------+--------------+---------------+--------------------+----------+\n",
            "|LineId|Label|          Timestamp|      Date|        User|    Time|          Location|           Component|  PID|             Content|EventId|       EventTemplate|Month|Year|component_index|user_index|location_index|       features|         probability|prediction|\n",
            "+------+-----+-------------------+----------+------------+--------+------------------+--------------------+-----+--------------------+-------+--------------------+-----+----+---------------+----------+--------------+---------------+--------------------+----------+\n",
            "|   100|    -|1970-01-01 00:01:31|2005-11-09|tbird-admin1|12:01:31|local@tbird-admin1|/apps/x86_64/syst...| 1682|data_thread() got...|    E32|data_thread() got...|   11|2005|            0.0|       0.0|           0.0|      (3,[],[])|[8.31164815561860...| Cluster 3|\n",
            "|  1003|    -|1970-01-01 00:09:08|2005-11-09|tbird-admin1|12:09:08|local@tbird-admin1|/apps/x86_64/syst...| 1682|data_thread() got...|    E32|data_thread() got...|   11|2005|            0.0|       0.0|           0.0|      (3,[],[])|[8.31164815561860...| Cluster 3|\n",
            "|  1005|    -|1970-01-01 00:09:09|2005-11-09|tbird-admin1|12:09:09|local@tbird-admin1|/apps/x86_64/syst...| 1682|RRD_update (/var/...|   E111|RRD_update (/var/...|   11|2005|            0.0|       0.0|           0.0|      (3,[],[])|[8.31164815561860...| Cluster 3|\n",
            "|   101|    -|1970-01-01 00:01:32|2005-11-09|     badmin1|12:01:32|       src@badmin1|            sendmail|11176|unable to qualify...|   E131|unable to qualify...|   11|2005|            7.0|       3.0|           3.0|  [7.0,3.0,3.0]|[7.95958385133148...| Cluster 3|\n",
            "|  1015|    -|1970-01-01 00:09:16|2005-11-09|       bn647|12:09:16|       bn647/bn647|                ntpd|30260|synchronized to 1...|   E125|synchronized to <...|   11|2005|            1.0|      37.0|          35.0|[1.0,37.0,35.0]|[7.03621731800065...| Cluster 2|\n",
            "+------+-----+-------------------+----------+------------+--------+------------------+--------------------+-----+--------------------+-------+--------------------+-----+----+---------------+----------+--------------+---------------+--------------------+----------+\n",
            "only showing top 5 rows\n",
            "\n"
          ]
        }
      ]
    },
    {
      "cell_type": "code",
      "source": [
        "# Converting into a pandas datatype to plot\n",
        "\n",
        "predictions_gmx_pandas=predictions_gmx.toPandas()"
      ],
      "metadata": {
        "id": "nU98GwmDIjAk"
      },
      "execution_count": 151,
      "outputs": []
    },
    {
      "cell_type": "code",
      "source": [
        "# Plotting Datas and corresponding clusters\n",
        "\n",
        "prediction_counts = predictions_gmx_pandas['prediction'].value_counts()\n",
        "sns.barplot(x=predictions_clusters.index, y=prediction_counts.values, color='orange', width=0.3)\n",
        "plt.xlabel('Clusters')\n",
        "plt.ylabel('No of users')\n",
        "plt.show()\n"
      ],
      "metadata": {
        "colab": {
          "base_uri": "https://localhost:8080/",
          "height": 452
        },
        "id": "gPnxse1tIjDx",
        "outputId": "f9994606-acc0-4c76-8fdb-cbd1e8153ef9"
      },
      "execution_count": 160,
      "outputs": [
        {
          "output_type": "display_data",
          "data": {
            "text/plain": [
              "<Figure size 640x480 with 1 Axes>"
            ],
            "image/png": "[encoded data removed]"
          },
          "metadata": {}
        }
      ]
    }
  ]
}